{
 "cells": [
  {
   "cell_type": "markdown",
   "metadata": {},
   "source": [
    "### 문제\n",
    "1부터 입력된 숫자 값까지 키로 설정하고 값은 키의 제곱이 되는 딕셔너리를 작성하시오\n",
    "\n",
    "```python\n",
    "# 입력\n",
    "Input a number 5\n",
    "# 출력\n",
    "{1: 1, 2: 4, 3: 9, 4: 16, 5: 25}\n",
    "```"
   ]
  },
  {
   "cell_type": "code",
   "execution_count": 3,
   "metadata": {},
   "outputs": [
    {
     "name": "stdout",
     "output_type": "stream",
     "text": [
      "5\n",
      "{1: 1, 2: 4, 3: 9, 4: 16, 5: 25}\n"
     ]
    }
   ],
   "source": [
    "num = int(input())\n",
    "D = {x: x**2 for x in range (1, num+1)}\n",
    "print(D)"
   ]
  },
  {
   "cell_type": "markdown",
   "metadata": {},
   "source": [
    "### 문제\n",
    "딕셔너리의 모든 값을 곱한 값을 구하시오\n",
    "```python\n",
    "my_dict = {'one': 100, 'two': -54, 'three': 247}\n",
    "\n",
    "# 출력\n",
    "-1333800\n",
    "```"
   ]
  },
  {
   "cell_type": "code",
   "execution_count": 15,
   "metadata": {},
   "outputs": [
    {
     "ename": "SyntaxError",
     "evalue": "unexpected EOF while parsing (<ipython-input-15-448930c0821f>, line 8)",
     "output_type": "error",
     "traceback": [
      "\u001b[1;36m  File \u001b[1;32m\"<ipython-input-15-448930c0821f>\"\u001b[1;36m, line \u001b[1;32m8\u001b[0m\n\u001b[1;33m    \u001b[0m\n\u001b[1;37m    ^\u001b[0m\n\u001b[1;31mSyntaxError\u001b[0m\u001b[1;31m:\u001b[0m unexpected EOF while parsing\n"
     ]
    }
   ],
   "source": [
    "# def mul(x):\n",
    "#     return 벨류값 곱하기\n",
    "\n",
    "    #벨류값만 추출하기 \n",
    "my_dict = {'one': 100, 'two': -54, 'three': 247}\n",
    "result = 1\n",
    "for i in my_dict.values():\n",
    "    \n"
   ]
  },
  {
   "cell_type": "code",
   "execution_count": 18,
   "metadata": {},
   "outputs": [
    {
     "name": "stdout",
     "output_type": "stream",
     "text": [
      "-1333800\n"
     ]
    }
   ],
   "source": [
    "my_dict = {'one': 100, 'two': -54, 'three': 247}\n",
    "result = 1\n",
    "for val in my_dict.values():\n",
    "    result *= val\n",
    "print(result)"
   ]
  },
  {
   "cell_type": "markdown",
   "metadata": {},
   "source": [
    "### 문제\n",
    "리스트 키의 요소를 정렬하시오\n",
    "```python\n",
    "num = {'n1': [2, 3, 1, 9, 8], 'n2': [5, 1, 2, 3, 1], 'n3': [3, 2, 4, 9, 0]}\n",
    "\n",
    "# 출력 \n",
    "{'n1': [1, 2, 3, 8, 9], 'n2': [1, 1, 2, 3, 5], 'n3': [0, 2, 3, 4, 9]}\n",
    "```\n"
   ]
  },
  {
   "cell_type": "code",
   "execution_count": 25,
   "metadata": {},
   "outputs": [
    {
     "name": "stdout",
     "output_type": "stream",
     "text": [
      "{'n1': [1, 2, 3, 8, 9], 'n2': [1, 1, 2, 3, 5], 'n3': [0, 2, 3, 4, 9]}\n"
     ]
    }
   ],
   "source": [
    "num = {\n",
    "    'n1': [2, 3, 1, 9, 8], \n",
    "    'n2': [5, 1, 2, 3, 1], \n",
    "    'n3': [3, 2, 4, 9, 0]\n",
    "}\n",
    "\n",
    "num_key_list = list(num.keys())\n",
    "num_val_list = list(num.values())\n",
    "\n",
    "for key, val in num.items():\n",
    "    val.sort()\n",
    "print(num)"
   ]
  },
  {
   "cell_type": "code",
   "execution_count": 28,
   "metadata": {},
   "outputs": [
    {
     "ename": "SyntaxError",
     "evalue": "invalid syntax (<ipython-input-28-f4bb90502166>, line 6)",
     "output_type": "error",
     "traceback": [
      "\u001b[1;36m  File \u001b[1;32m\"<ipython-input-28-f4bb90502166>\"\u001b[1;36m, line \u001b[1;32m6\u001b[0m\n\u001b[1;33m    sorted_dict = {key, sorted(value) for key, value in num.items()}\u001b[0m\n\u001b[1;37m                                        ^\u001b[0m\n\u001b[1;31mSyntaxError\u001b[0m\u001b[1;31m:\u001b[0m invalid syntax\n"
     ]
    }
   ],
   "source": [
    "num = {\n",
    "    'n1': [2, 3, 1, 9, 8], \n",
    "    'n2': [5, 1, 2, 3, 1], \n",
    "    'n3': [3, 2, 4, 9, 0]\n",
    "}\n",
    "sorted_dict = {key, sorted(value) for key, value in num.items()}"
   ]
  },
  {
   "cell_type": "markdown",
   "metadata": {},
   "source": [
    "### 문제\n",
    "\n",
    "다음과 같은 딕셔너리가 있다면 아래와 같이 출력하시오\n",
    "\n",
    "```python\n",
    "dict_num = {1: 10, 2: 20, 3: 30, 4: 40, 5: 50, 6: 60}\n",
    "\n",
    "# 출력\n",
    "key  value  count                                                                                             \n",
    "1     10      1                                                                                               \n",
    "2     20      2                                                                                               \n",
    "3     30      3                                                                                               \n",
    "4     40      4                                                                                               \n",
    "5     50      5                                                                                               \n",
    "6     60      6\n",
    "```"
   ]
  },
  {
   "cell_type": "code",
   "execution_count": 30,
   "metadata": {},
   "outputs": [
    {
     "name": "stdout",
     "output_type": "stream",
     "text": [
      "key value count\n",
      "1    10    1\n",
      "2    20    2\n",
      "3    30    3\n",
      "4    40    4\n",
      "5    50    5\n",
      "6    60    6\n"
     ]
    }
   ],
   "source": [
    "dict_num = {1: 10, 2: 20, 3: 30, 4: 40, 5: 50, 6: 60}\n",
    "\n",
    "print('key value count')\n",
    "count = 1\n",
    "for key, val in dict_num.items():\n",
    "    print(f'{key}    {val}    {count}')\n",
    "    count += 1"
   ]
  },
  {
   "cell_type": "code",
   "execution_count": 34,
   "metadata": {},
   "outputs": [
    {
     "name": "stdout",
     "output_type": "stream",
     "text": [
      "key value count\n",
      "1     10          1\n",
      "2     20          2\n",
      "3     30          3\n",
      "4     40          4\n",
      "5     50          5\n",
      "6     60          6\n"
     ]
    }
   ],
   "source": [
    "print('key value count')\n",
    "count = 1\n",
    "for count, (key, value) in enumerate(dict_num.items(), 1):\n",
    "    print(f'{key:<5}{value:^5}{count:>9}')"
   ]
  },
  {
   "cell_type": "markdown",
   "metadata": {},
   "source": [
    "### 문제\n",
    "\n",
    "아래와 같은 딕셔너리를 분해하여 출력하시오\n",
    "\n",
    "```python\n",
    "students = {\n",
    "    'Harry': {'class': 'AD', 'student_id': 123456},\n",
    "    'Puja': {'class': 'INTER', 'student_id': 98762}\n",
    "}\n",
    "\n",
    "# 출력\n",
    "Harry\n",
    "class : AD\n",
    "student_id : 123456\n",
    "Puja\n",
    "class : INTER\n",
    "student_id : 98762\n",
    "```"
   ]
  },
  {
   "cell_type": "code",
   "execution_count": 35,
   "metadata": {},
   "outputs": [
    {
     "name": "stdout",
     "output_type": "stream",
     "text": [
      "Harry\n",
      "class : AD\n",
      "student_id : 123456\n",
      "Puja\n",
      "class : INTER\n",
      "student_id : 98762\n"
     ]
    }
   ],
   "source": [
    "students = {\n",
    "    'Harry': {\n",
    "        'class': 'AD', \n",
    "        'student_id': 123456\n",
    "    },\n",
    "    'Puja': {\n",
    "        'class': 'INTER',\n",
    "        'student_id': 98762\n",
    "    }\n",
    "}\n",
    "\n",
    "for k, v in students.items():\n",
    "    print(k)\n",
    "    for k2, v2 in v.items():\n",
    "        print(f'{k2} : {v2}')"
   ]
  },
  {
   "cell_type": "markdown",
   "metadata": {},
   "source": [
    "### 문제\n",
    "딕셔너리의 키인 리스트 요소의 총 개수를 구하시오\n",
    "```python\n",
    "sample = {'John': ['sub1', 'sub2', 'sub3'], 'Kcarl': ['sub7', 'sub123'], 'Jason': [21, 1, 900]}\n",
    "\n",
    "# 출력\n",
    "8\n",
    "```"
   ]
  },
  {
   "cell_type": "code",
   "execution_count": 22,
   "metadata": {},
   "outputs": [
    {
     "name": "stdout",
     "output_type": "stream",
     "text": [
      "3\n"
     ]
    }
   ],
   "source": [
    "# count\n",
    "sample = {'John': ['sub1', 'sub2', 'sub3'], 'Kcarl': ['sub7', 'sub123'], 'Jason': [21, 1, 900]}\n",
    "\n",
    "for val in sample.values():\n",
    "#     samples = sample.values()\n",
    "    new_sample = len(val)\n",
    "print(new_sample)"
   ]
  },
  {
   "cell_type": "code",
   "execution_count": 36,
   "metadata": {},
   "outputs": [
    {
     "name": "stdout",
     "output_type": "stream",
     "text": [
      "8\n"
     ]
    }
   ],
   "source": [
    "count = 0 # 리스트의 요소 \n",
    "for val in sample.values():\n",
    "    #리스트 길이를 셀수잇는 함수가 len\n",
    "    count += len(val)\n",
    "print(count)"
   ]
  },
  {
   "cell_type": "code",
   "execution_count": 37,
   "metadata": {},
   "outputs": [
    {
     "name": "stdout",
     "output_type": "stream",
     "text": [
      "[3, 2, 3]\n"
     ]
    }
   ],
   "source": [
    "print([len(val) for val in sample.values()])"
   ]
  },
  {
   "cell_type": "code",
   "execution_count": 38,
   "metadata": {},
   "outputs": [
    {
     "data": {
      "text/plain": [
       "8"
      ]
     },
     "execution_count": 38,
     "metadata": {},
     "output_type": "execute_result"
    }
   ],
   "source": [
    "count = sum([len(val) for val in sample.values()])\n",
    "count"
   ]
  },
  {
   "cell_type": "code",
   "execution_count": null,
   "metadata": {},
   "outputs": [],
   "source": []
  }
 ],
 "metadata": {
  "kernelspec": {
   "display_name": "Python 3",
   "language": "python",
   "name": "python3"
  },
  "toc": {
   "base_numbering": 1,
   "nav_menu": {},
   "number_sections": true,
   "sideBar": true,
   "skip_h1_title": false,
   "title_cell": "Table of Contents",
   "title_sidebar": "Contents",
   "toc_cell": false,
   "toc_position": {},
   "toc_section_display": true,
   "toc_window_display": false
  }
 },
 "nbformat": 4,
 "nbformat_minor": 2
}
