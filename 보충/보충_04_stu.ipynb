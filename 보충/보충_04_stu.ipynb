{
 "cells": [
  {
   "cell_type": "markdown",
   "metadata": {},
   "source": [
    "## 문제\n",
    "이메일을 보내면 이메일을 보냈다라고 True를 출력해주는 `send_email()` 메서드를 가진 `Email` 클래스를 작성하시오\n",
    "\n",
    "```python\n",
    "my_email = Email()\n",
    "my_email.is_sent # => False\n",
    "\n",
    "my_email.send_email()\n",
    "my_email.is_sent # => True\n",
    "```"
   ]
  },
  {
   "cell_type": "markdown",
   "metadata": {},
   "source": [
    "```python\n",
    "my_email = Email('김준호')\n",
    "my_email.is_sent # => False\n",
    "\n",
    "my_email.send_email()\n",
    "my_email.is_sent # => True\n",
    "```"
   ]
  },
  {
   "cell_type": "code",
   "execution_count": null,
   "metadata": {},
   "outputs": [],
   "source": [
    "class Email:\n",
    "    def __init__(self): # self:인스턴스 자기 자신\n",
    "        self.is_sent = False\n",
    "        \n",
    "    def send_email(self):\n",
    "        self.is_sent = True"
   ]
  },
  {
   "cell_type": "code",
   "execution_count": null,
   "metadata": {},
   "outputs": [],
   "source": [
    "class Email:\n",
    "    def __init__(self, name): # self:인스턴스 자기 자신\n",
    "        self.is_sent = False\n",
    "        self.name = name\n",
    "    def send_email(self):\n",
    "        self.is_sent = True\n",
    "        "
   ]
  },
  {
   "cell_type": "markdown",
   "metadata": {},
   "source": [
    "## 문제\n",
    "\n",
    "아래처럼 리스트에 단일 값을 넣는 add() 메서드와 값을 두번 넣어주는 add_twice 메서드를 가진 `Bag` 클래스를 작성하시오\n",
    "\n",
    "```python\n",
    "bag = Bag()\n",
    "bag.add(1)\n",
    "bag.add_twice(5)\n",
    "bag.data\n",
    "\n",
    "# 출력\n",
    "[1, 5, 5]\n",
    "```"
   ]
  },
  {
   "cell_type": "code",
   "execution_count": null,
   "metadata": {},
   "outputs": [],
   "source": [
    "class Bag:\n",
    "    def __init__(self):\n",
    "        self.data = []\n",
    "    \n",
    "    \n",
    "    def add(self, num):\n",
    "        self.data.append(num)\n",
    "        return self.data\n",
    "    \n",
    "    def add_twice(self, num):\n",
    "        self.add(num)\n",
    "        self.add(num)\n",
    "        return self.data\n",
    "        \n",
    "    "
   ]
  },
  {
   "cell_type": "markdown",
   "metadata": {},
   "source": [
    "## 문제\n",
    "정사각형의 넓이를 구해주는 `square_area()` 메서드를 가진 파이썬 클래스 `SquareClass` 를 작성하십시오.\n",
    "\n",
    "```python\n",
    "sample = SquareClass(12)\n",
    "print(sample.square_area())\n",
    "\n",
    "# 출력\n",
    "144\n",
    "```"
   ]
  },
  {
   "cell_type": "code",
   "execution_count": null,
   "metadata": {},
   "outputs": [],
   "source": [
    "class SquareClass:\n",
    "    \n",
    "    def __init__(self, num):\n",
    "        self.width = num\n",
    "        \n",
    "    def square_are(self):\n",
    "        return self.width**2"
   ]
  },
  {
   "cell_type": "markdown",
   "metadata": {},
   "source": [
    "## 문제\n",
    "`get_String()`과 `print_String()`의 두 가지 메소드를 가진 파이썬 클래스 `MyClass`를 작성하십시오. \n",
    "\n",
    "`get_String()`은 사용자로부터 문자열을 받고 `print_String()`은 입력 문자열이 대문자였다면 소문자로, 소문자였다면 대문자로로 인쇄합니다.\n",
    "\n",
    "```python\n",
    "sample = MyClass()\n",
    "\n",
    "# 입력\n",
    "sample.get_String()\n",
    "\n",
    "asda\n",
    "\n",
    "# 출력\n",
    "sample.print_String()\n",
    "\n",
    "ASDA\n",
    "```"
   ]
  },
  {
   "cell_type": "code",
   "execution_count": 3,
   "metadata": {},
   "outputs": [],
   "source": [
    "class MyClass:\n",
    "    \n",
    "    \n",
    "    def __init__(self):\n",
    "        self.x = ''\n",
    "    \n",
    "    \n",
    "    def get_String(self):\n",
    "        self.x = input()\n",
    "        \n",
    "        \n",
    "    def print_String(self):\n",
    "        if self.x.islower():\n",
    "            return self.x.upper()\n",
    "        else:\n",
    "            self.x.lower()\n",
    "            \n",
    "        \n"
   ]
  },
  {
   "cell_type": "code",
   "execution_count": 4,
   "metadata": {},
   "outputs": [
    {
     "name": "stdout",
     "output_type": "stream",
     "text": [
      "aaaa\n"
     ]
    }
   ],
   "source": [
    "sample = MyClass()\n",
    "sample.get_String()"
   ]
  },
  {
   "cell_type": "code",
   "execution_count": null,
   "metadata": {},
   "outputs": [],
   "source": [
    "class Student:\n",
    "    \n",
    "    \n",
    "    def __init__(self, name, age):\n",
    "        self.name = name\n",
    "        self.age = age\n",
    "    \n",
    "    \n",
    "    def __str__(self):\n",
    "        return f'이름은{self.name}나이는{self.age}'\n",
    "    \n",
    "    \n",
    "class ClassMate:\n",
    "    count = 0\n",
    "    \n",
    "    def _init__(self, x, y):\n",
    "        self.x = x\n",
    "        self.y = y\n",
    "        ClassMate.count += 1\n",
    "     \n",
    "    def display(self):\n",
    "        return(self.x.name, self.y.name)\n",
    "    \n",
    "    def sum_age(self):\n",
    "        return(self.x.age + self.y.age)\n",
    "    \n",
    "    def is_teen(self):\n",
    "        return self.x.age < 20 and self.y.age < 20\n",
    "    \n",
    "    @classmethod\n",
    "    def how_many(cls):\n",
    "        return f'{cls.count}쌍의 커플이 있습니다.'\n",
    "    \n",
    "    \n",
    "    def __str__(self):\n",
    "        return f'{self.x.name}과 {self.y.name}는 커플입니다.'\n",
    "    \n",
    "    \n",
    "    \n",
    "    \n",
    "        "
   ]
  },
  {
   "cell_type": "markdown",
   "metadata": {},
   "source": [
    "## 문제\n",
    "Student 클래스는 인스턴스 생성시 이름과 나이를 받는다. (인자가 두개이다)\n",
    "\n",
    "Student 클래스로 만든 인스턴스를 print 로 출력 시\n",
    "\n",
    "`이름은 홍길동, 나이는 30` 형식으로 출력된다.\n",
    "\n",
    "ClassMate 클래스는 학생 인스턴스 2개를 인자로 받아서 인스턴스를 만든다.(한 커플이 만들어진 것)\n",
    "\n",
    "그리고 인스턴스 생성시마다 카운트 한다.\n",
    "\n",
    "ClassMate 클래스로 만든 인스턴스를 print 로 출력 시\n",
    "\n",
    "`홍길동과 김싸피는 커플입니다.` 형식으로 출력된다.\n",
    "\n",
    "`display()` 메서드는 커플의 각각 이름을 출력한다.\n",
    "\n",
    "`sum_age()` 메서드는 커플의 나이를 합해서 출력한다.\n",
    "\n",
    "`is_teen()` 메서드는 두 커플이 모두 10대일 시 True 를 출력한다.\n",
    "\n",
    "`how_many()` 메서드는 현재 몇 커플이 만들어졌는지 클래스 변수 count 값을 출력한다.\n",
    "\n",
    "```python\n",
    "stu1 = Student('홍길동', 30)\n",
    "stu2 = Student('김싸피', 19)\n",
    "print(stu1) # 이름은 홍길동, 나이는 30\n",
    "\n",
    "mate = ClassMate(stu1, stu2)\n",
    "print(mate) # 홍길동와 김싸피은 커플입니다.\n",
    "\n",
    "mate.display() # 홍길동 김싸피\n",
    "\n",
    "mate.sum_age() # 49\n",
    "\n",
    "mate.is_teen() # False\n",
    "\n",
    "ClassMate.how_many() # 1 쌍의 짝이 있습니다.\n",
    "```\n",
    "\n"
   ]
  },
  {
   "cell_type": "code",
   "execution_count": null,
   "metadata": {},
   "outputs": [],
   "source": []
  }
 ],
 "metadata": {
  "kernelspec": {
   "display_name": "Python 3",
   "language": "python",
   "name": "python3"
  },
  "language_info": {
   "codemirror_mode": {
    "name": "ipython",
    "version": 3
   },
   "file_extension": ".py",
   "mimetype": "text/x-python",
   "name": "python",
   "nbconvert_exporter": "python",
   "pygments_lexer": "ipython3",
   "version": "3.7.3"
  },
  "toc": {
   "base_numbering": 1,
   "nav_menu": {},
   "number_sections": true,
   "sideBar": true,
   "skip_h1_title": false,
   "title_cell": "Table of Contents",
   "title_sidebar": "Contents",
   "toc_cell": false,
   "toc_position": {},
   "toc_section_display": true,
   "toc_window_display": false
  }
 },
 "nbformat": 4,
 "nbformat_minor": 2
}
